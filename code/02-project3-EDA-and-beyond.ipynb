{
 "cells": [
  {
   "cell_type": "markdown",
   "id": "5c7fb6b7",
   "metadata": {},
   "source": [
    "### Previous Notebooks & scripts:\n",
    "1. PRAW\n",
    "1. minor data cleaning & joining into 1 dataframe/csv\n",
    "\n",
    "#### This is the 3rd codefile of the project.\n"
   ]
  },
  {
   "cell_type": "code",
   "execution_count": 3,
   "id": "03dafeec",
   "metadata": {},
   "outputs": [],
   "source": [
    "#import numpy as np \n",
    "    #maybe\n",
    "import pandas as pd\n",
    "import matplotlib.pyplot as plt\n",
    "import seaborn as sns\n"
   ]
  },
  {
   "cell_type": "code",
   "execution_count": null,
   "id": "c227f1e3",
   "metadata": {},
   "outputs": [],
   "source": [
    "#first, read in the \"both subreddits joined\".csv\n",
    "\n",
    "mypath = \"../data/\"\n",
    "df_both_subs = pd.read_csv(mypath+\"both_subs.csv\")"
   ]
  },
  {
   "cell_type": "code",
   "execution_count": 6,
   "id": "38ddaf6a",
   "metadata": {},
   "outputs": [
    {
     "data": {
      "text/plain": [
       "(13106, 7)"
      ]
     },
     "execution_count": 6,
     "metadata": {},
     "output_type": "execute_result"
    }
   ],
   "source": [
    "df_both_subs.shape"
   ]
  },
  {
   "cell_type": "code",
   "execution_count": 12,
   "id": "31fa0cb4",
   "metadata": {},
   "outputs": [
    {
     "data": {
      "text/plain": [
       "Index(['Unnamed: 0.1', 'Unnamed: 0', 'created_utc', 'title', 'self_text',\n",
       "       'subreddit', 'is_eli5'],\n",
       "      dtype='object')"
      ]
     },
     "execution_count": 12,
     "metadata": {},
     "output_type": "execute_result"
    }
   ],
   "source": [
    "df_both_subs.columns\n",
    "#in which I learn that to_csv writes an index by default, every time\n",
    "#df.to_csv('file.csv', index=False) should be a future feature\n",
    "#&/or read in without it for future-other-data-proofing\n",
    "#either way, I got no time for this:\n",
    "    #df.drop(columns=['Unnamed: 0.1'], inplace=True)\n",
    "#another future feature: don't keep the 'subreddit' column either\n",
    "    #that's beyond redundant and just staying in memory for no good reason\n"
   ]
  },
  {
   "cell_type": "code",
   "execution_count": null,
   "id": "9cb77d7f",
   "metadata": {},
   "outputs": [],
   "source": [
    "#5 EDA next\n",
    "#x TODO Once you have at least 1000 posts from each subreddit\n",
    "# - you can do some EDA \n",
    "\n",
    "\n",
    "#first, though, let's preprocess things & remember lesson 505"
   ]
  },
  {
   "cell_type": "code",
   "execution_count": 49,
   "id": "ba5241dc",
   "metadata": {},
   "outputs": [],
   "source": [
    "##Yep, NLP lesson 2 (mostly)\n",
    "#I'm just grabbing all lesson 505 imports. No time to be choosy in a timecrunch\n",
    "\n",
    "# imports\n",
    "from sklearn.model_selection import train_test_split, GridSearchCV\n",
    "from sklearn.pipeline import Pipeline\n",
    "from sklearn.naive_bayes import MultinomialNB\n",
    "from sklearn.linear_model import LogisticRegression\n",
    "from sklearn.metrics import confusion_matrix, ConfusionMatrixDisplay\n",
    "\n",
    "# Import CountVectorizer and TFIDFVectorizer from feature_extraction.text.\n",
    "from sklearn.feature_extraction.text import CountVectorizer, TfidfVectorizer, ENGLISH_STOP_WORDS\n",
    "    #that last one is from a chatgpt advice about customizing them"
   ]
  },
  {
   "cell_type": "code",
   "execution_count": null,
   "id": "930a2d09",
   "metadata": {},
   "outputs": [],
   "source": []
  },
  {
   "cell_type": "code",
   "execution_count": 13,
   "id": "a8f6652b",
   "metadata": {},
   "outputs": [
    {
     "data": {
      "text/plain": [
       "is_eli5\n",
       "1    0.531512\n",
       "0    0.468488\n",
       "Name: proportion, dtype: float64"
      ]
     },
     "execution_count": 13,
     "metadata": {},
     "output_type": "execute_result"
    }
   ],
   "source": [
    "#spam.label.value_counts\n",
    "df_both_subs.is_eli5.value_counts(normalize=True)\n",
    "\n",
    "#honestly, I'm just doing the lesson for starters\n",
    "#(I already \"mapped\" my which-subreddit column to 0/1 values)"
   ]
  },
  {
   "cell_type": "code",
   "execution_count": 10,
   "id": "18445aaf",
   "metadata": {},
   "outputs": [
    {
     "data": {
      "text/plain": [
       "Index(['Unnamed: 0.1', 'Unnamed: 0', 'created_utc', 'title', 'self_text',\n",
       "       'subreddit', 'is_eli5'],\n",
       "      dtype='object')"
      ]
     },
     "execution_count": 10,
     "metadata": {},
     "output_type": "execute_result"
    }
   ],
   "source": [
    "df_both_subs.columns"
   ]
  },
  {
   "cell_type": "code",
   "execution_count": 11,
   "id": "03d7b060",
   "metadata": {},
   "outputs": [
    {
     "data": {
      "text/html": [
       "<div>\n",
       "<style scoped>\n",
       "    .dataframe tbody tr th:only-of-type {\n",
       "        vertical-align: middle;\n",
       "    }\n",
       "\n",
       "    .dataframe tbody tr th {\n",
       "        vertical-align: top;\n",
       "    }\n",
       "\n",
       "    .dataframe thead th {\n",
       "        text-align: right;\n",
       "    }\n",
       "</style>\n",
       "<table border=\"1\" class=\"dataframe\">\n",
       "  <thead>\n",
       "    <tr style=\"text-align: right;\">\n",
       "      <th></th>\n",
       "      <th>Unnamed: 0.1</th>\n",
       "      <th>Unnamed: 0</th>\n",
       "      <th>created_utc</th>\n",
       "      <th>title</th>\n",
       "      <th>self_text</th>\n",
       "      <th>subreddit</th>\n",
       "      <th>is_eli5</th>\n",
       "    </tr>\n",
       "  </thead>\n",
       "  <tbody>\n",
       "    <tr>\n",
       "      <th>0</th>\n",
       "      <td>0</td>\n",
       "      <td>0</td>\n",
       "      <td>1.697390e+09</td>\n",
       "      <td>eli5 could people from the last century compre...</td>\n",
       "      <td>Lets say someone in 1990 plays some Super Mari...</td>\n",
       "      <td>explainlikeimfive</td>\n",
       "      <td>1</td>\n",
       "    </tr>\n",
       "    <tr>\n",
       "      <th>1</th>\n",
       "      <td>1</td>\n",
       "      <td>1</td>\n",
       "      <td>1.697390e+09</td>\n",
       "      <td>Eli5 Home EV charging</td>\n",
       "      <td>Don’t know anything about EV charging\\n\\nWhat ...</td>\n",
       "      <td>explainlikeimfive</td>\n",
       "      <td>1</td>\n",
       "    </tr>\n",
       "    <tr>\n",
       "      <th>2</th>\n",
       "      <td>2</td>\n",
       "      <td>2</td>\n",
       "      <td>1.697390e+09</td>\n",
       "      <td>ELI5: why are we potentially able to hold our ...</td>\n",
       "      <td>I understand that it's the lack of oxygen that...</td>\n",
       "      <td>explainlikeimfive</td>\n",
       "      <td>1</td>\n",
       "    </tr>\n",
       "    <tr>\n",
       "      <th>3</th>\n",
       "      <td>3</td>\n",
       "      <td>3</td>\n",
       "      <td>1.697389e+09</td>\n",
       "      <td>ELI5: Acquiring my car’s title registration?</td>\n",
       "      <td>Hey everyone, first time truly posting so bear...</td>\n",
       "      <td>explainlikeimfive</td>\n",
       "      <td>1</td>\n",
       "    </tr>\n",
       "    <tr>\n",
       "      <th>4</th>\n",
       "      <td>4</td>\n",
       "      <td>4</td>\n",
       "      <td>1.697389e+09</td>\n",
       "      <td>eli5- engine &amp; cabin air filters</td>\n",
       "      <td>ELI5 - why does the auto mechanic always try t...</td>\n",
       "      <td>explainlikeimfive</td>\n",
       "      <td>1</td>\n",
       "    </tr>\n",
       "  </tbody>\n",
       "</table>\n",
       "</div>"
      ],
      "text/plain": [
       "   Unnamed: 0.1  Unnamed: 0   created_utc  \\\n",
       "0             0           0  1.697390e+09   \n",
       "1             1           1  1.697390e+09   \n",
       "2             2           2  1.697390e+09   \n",
       "3             3           3  1.697389e+09   \n",
       "4             4           4  1.697389e+09   \n",
       "\n",
       "                                               title  \\\n",
       "0  eli5 could people from the last century compre...   \n",
       "1                              Eli5 Home EV charging   \n",
       "2  ELI5: why are we potentially able to hold our ...   \n",
       "3       ELI5: Acquiring my car’s title registration?   \n",
       "4                   eli5- engine & cabin air filters   \n",
       "\n",
       "                                           self_text          subreddit  \\\n",
       "0  Lets say someone in 1990 plays some Super Mari...  explainlikeimfive   \n",
       "1  Don’t know anything about EV charging\\n\\nWhat ...  explainlikeimfive   \n",
       "2  I understand that it's the lack of oxygen that...  explainlikeimfive   \n",
       "3  Hey everyone, first time truly posting so bear...  explainlikeimfive   \n",
       "4  ELI5 - why does the auto mechanic always try t...  explainlikeimfive   \n",
       "\n",
       "   is_eli5  \n",
       "0        1  \n",
       "1        1  \n",
       "2        1  \n",
       "3        1  \n",
       "4        1  "
      ]
     },
     "execution_count": 11,
     "metadata": {},
     "output_type": "execute_result"
    }
   ],
   "source": [
    "df_both_subs.head()"
   ]
  },
  {
   "cell_type": "code",
   "execution_count": null,
   "id": "604a9de0",
   "metadata": {},
   "outputs": [],
   "source": []
  },
  {
   "cell_type": "code",
   "execution_count": null,
   "id": "22d8e34c",
   "metadata": {},
   "outputs": [],
   "source": []
  },
  {
   "cell_type": "code",
   "execution_count": 17,
   "id": "4a2a4a9b",
   "metadata": {},
   "outputs": [
    {
     "data": {
      "text/plain": [
       "0.5315122844498703"
      ]
     },
     "execution_count": 17,
     "metadata": {},
     "output_type": "execute_result"
    }
   ],
   "source": [
    "#next steps in lesson 505\n",
    "\n",
    "#bad code, but it might be nice to actually use 2 variables for modeling\n",
    "#another fun future-feature from the Procrastinating Student\n",
    "#X = df_both_subs['self_text', 'title']\n",
    "\n",
    "X = df_both_subs['title'] \n",
    "    #to avoid data leakage\n",
    "    #leave out the \"whether it's in that subreddit\"\n",
    "y = df_both_subs['is_eli5']\n",
    "\n",
    "y.mean()"
   ]
  },
  {
   "cell_type": "code",
   "execution_count": null,
   "id": "59ba2640",
   "metadata": {},
   "outputs": [],
   "source": [
    "#I think this means that 53% of my pulled-posts are from /r/eli5\n",
    "#also something about a baseline model"
   ]
  },
  {
   "cell_type": "code",
   "execution_count": 19,
   "id": "022ffb33",
   "metadata": {},
   "outputs": [
    {
     "data": {
      "text/plain": [
       "<9829x6314 sparse matrix of type '<class 'numpy.int64'>'\n",
       "\twith 104220 stored elements in Compressed Sparse Row format>"
      ]
     },
     "execution_count": 19,
     "metadata": {},
     "output_type": "execute_result"
    }
   ],
   "source": [
    "#unnecessary attrib: I copy-pasted most of this from lesson 505\n",
    "# Split the data into the training and testing sets.\n",
    "X_train, X_test, y_train, y_test = train_test_split(X,\n",
    "                                                    y,\n",
    "                                                    random_state=42)\n",
    "# Instantiate a CountVectorizer.\n",
    "cvec = CountVectorizer()\n",
    "# Fit the vectorizer on our corpus.\n",
    "cvec.fit(X_train)\n",
    "\n",
    "# Transform the corpus.\n",
    "X_train = cvec.transform(X_train)\n",
    "X_test = cvec.transform(X_test)\n",
    "\n",
    "#however, due to my incomplete work on previous projects\n",
    "#I have no idea what \"transform does\", on a theoretical level\n",
    "#matrices are involved, I can tell you that much:\n",
    "X_train\n"
   ]
  },
  {
   "cell_type": "code",
   "execution_count": null,
   "id": "11a3c3f9",
   "metadata": {},
   "outputs": [],
   "source": []
  },
  {
   "cell_type": "code",
   "execution_count": 27,
   "id": "87373a71",
   "metadata": {},
   "outputs": [
    {
     "name": "stdout",
     "output_type": "stream",
     "text": [
      "X_train.shape:  (9829, 6314)\n",
      "which is:  62060306 , a lot of dang matrix cells\n"
     ]
    }
   ],
   "source": [
    "X_train.todense() #make matrix\n",
    "#why. what am matrix.\n",
    "\n",
    "\n",
    "print(\"X_train.shape: \", X_train.shape)\n",
    "print(\"which is: \",X_train.shape[0]*X_train.shape[1],\", a lot of dang matrix cells\")\n",
    "\n",
    "#1 col per token (word) in vocab (reddit post titles) == 6314 columns\n",
    "#wide vocab, but DOES include stop words afaik"
   ]
  },
  {
   "cell_type": "code",
   "execution_count": 28,
   "id": "8f4a55b6",
   "metadata": {},
   "outputs": [
    {
     "data": {
      "text/plain": [
       "0.9983206657086093"
      ]
     },
     "execution_count": 28,
     "metadata": {},
     "output_type": "execute_result"
    }
   ],
   "source": [
    "1 - 104220 /(9829*6314)\n",
    "#in which I should know something about matrices and their sparseness I guess\n"
   ]
  },
  {
   "cell_type": "code",
   "execution_count": 29,
   "id": "eed06a2f",
   "metadata": {},
   "outputs": [
    {
     "data": {
      "text/plain": [
       "array(['00', '000', '0c', ..., 'zones', 'zoom', 'étale'], dtype=object)"
      ]
     },
     "execution_count": 29,
     "metadata": {},
     "output_type": "execute_result"
    }
   ],
   "source": [
    "#Per Tim in lesson: \n",
    "#remember that sklearn never outputs df, so we've lost the column names\n",
    "#can get the col names (words in corpus) back:\n",
    "\n",
    "#not saving, just annotating that here:\n",
    "cvec.get_feature_names_out() #column names tokens back\n",
    "    #solutions notebook had a slice here, to display more useful ones"
   ]
  },
  {
   "cell_type": "code",
   "execution_count": 30,
   "id": "a8feff93",
   "metadata": {},
   "outputs": [
    {
     "data": {
      "text/plain": [
       "473.48271560668945"
      ]
     },
     "execution_count": 30,
     "metadata": {},
     "output_type": "execute_result"
    }
   ],
   "source": [
    "# Convert X_train into a DataFrame.\n",
    "# We will not actually use this for modeling\n",
    "        #which is a pity\n",
    "#but I gotta do some EDA on it for a minute\n",
    "\n",
    "X_train_df = pd.DataFrame(X_train.todense(), columns = cvec.get_feature_names_out())\n",
    "import sys\n",
    "sys.getsizeof(X_train_df) / 1024 / 1024\n",
    "\n",
    "#is this a 473 megabyte DF? wow."
   ]
  },
  {
   "cell_type": "code",
   "execution_count": 33,
   "id": "1511d207",
   "metadata": {
    "scrolled": true
   },
   "outputs": [
    {
     "data": {
      "image/png": "[encoded data removed]",
      "text/plain": [
       "<Figure size 640x480 with 1 Axes>"
      ]
     },
     "metadata": {},
     "output_type": "display_data"
    }
   ],
   "source": [
    "#get the top 10 words\n",
    "#plot a bar chart\n",
    "#they are all stop words\n",
    "X_train_df.sum().sort_values(ascending=False).head(10).plot(kind='barh')\n",
    "plt.savefig('../images/top-10-is-stoppers.png')"
   ]
  },
  {
   "cell_type": "code",
   "execution_count": null,
   "id": "184f002f",
   "metadata": {},
   "outputs": [],
   "source": [
    "#it's actually interesting that one of the subreddit names itself in the title so much\n",
    "#that it lands in the \"both of them\" top-10"
   ]
  },
  {
   "cell_type": "code",
   "execution_count": null,
   "id": "a07002f5",
   "metadata": {},
   "outputs": [],
   "source": [
    "#okay so what about \n",
    "## Plot top occuring words\n",
    "#without stop words\n",
    "\n",
    "#recall # Let's look at sklearn's stopwords.\n",
    "#print(CountVectorizer(stop_words = 'english').get_stop_words())"
   ]
  },
  {
   "cell_type": "code",
   "execution_count": 38,
   "id": "40f25e7d",
   "metadata": {},
   "outputs": [],
   "source": [
    "#let's redo & overwrite the test/train stuff \n",
    "#to get going w/o stop-wodrs\n",
    "\n",
    "# Train Test Split\n",
    "X_train, X_test, y_train, y_test = train_test_split(X,\n",
    "                                                    y,\n",
    "                                                    random_state=42)\n",
    "# Instantiate (w/ Stop Words)\n",
    "cvec = CountVectorizer(stop_words='english')\n",
    "\n",
    "#fit\n",
    "cvec.fit(X_train)\n",
    "\n",
    "#transform\n",
    "X_train_cv = cvec.transform(X_train)\n",
    "X_test_cv = cvec.transform(X_test)\n",
    "\n",
    "X_train_df = pd.DataFrame(X_train_cv.todense(),columns=cvec.get_feature_names_out())\n"
   ]
  },
  {
   "cell_type": "code",
   "execution_count": 47,
   "id": "874647c3",
   "metadata": {},
   "outputs": [
    {
     "data": {
      "image/png": "[encoded data removed]",
      "text/plain": [
       "<Figure size 640x480 with 1 Axes>"
      ]
     },
     "metadata": {},
     "output_type": "display_data"
    }
   ],
   "source": [
    "# Plot top occuring words, without regular english stop words\n",
    "X_train_df.sum().sort_values(ascending=False).head(10).plot(kind='barh')\n",
    "plt.savefig('../images/top-10-without-stoppers.png')"
   ]
  },
  {
   "cell_type": "code",
   "execution_count": 41,
   "id": "24f21197",
   "metadata": {},
   "outputs": [],
   "source": [
    "#note that \"did, don, does\" are all now in the top 10 although \"do\" isn't anymore"
   ]
  },
  {
   "cell_type": "code",
   "execution_count": 59,
   "id": "16a265fa",
   "metadata": {},
   "outputs": [
    {
     "data": {
      "text/plain": [
       "{'did', 'does', 'don', 'eli5'}"
      ]
     },
     "execution_count": 59,
     "metadata": {},
     "output_type": "execute_result"
    }
   ],
   "source": [
    "#attrib chatgpt:\n",
    "custom_stop_words = set([\n",
    "    \"eli5\",\n",
    "    \"did\",\n",
    "    \"don\",\n",
    "    \"does\"\n",
    "    # Add more custom stop words here\n",
    "])\n",
    "\n",
    "\n",
    "custom_stop_words\n",
    "#this might become useful next time I instantiate a cvec\n",
    "#if I could correctly add this to 'english'"
   ]
  },
  {
   "cell_type": "code",
   "execution_count": 53,
   "id": "4e9dc34f",
   "metadata": {},
   "outputs": [],
   "source": [
    "#can't do this yet:\n",
    "# # # Plot top occuring words\n",
    "# X_train_df.sum().sort_values(ascending=False).head(10).plot(kind='barh')\n",
    "# plt.savefig('../images/top-10-without-custom-stoppers.png')"
   ]
  },
  {
   "cell_type": "code",
   "execution_count": null,
   "id": "307f0c32",
   "metadata": {},
   "outputs": [],
   "source": [
    "#recall:\n",
    "# One downside to CountVectorizer is the size of its vocabulary (cvec.get_feature_names()) can get really large. We're creating one column for every unique token in your corpus of data!\n",
    "# There are three hyperparameters to help you control this.\n",
    "\n",
    "#also n-grams are going to be important\n",
    "\n",
    "#it's time to redo this again"
   ]
  },
  {
   "cell_type": "code",
   "execution_count": 71,
   "id": "d0738f7f",
   "metadata": {},
   "outputs": [],
   "source": [
    "# Train Test Split\n",
    "X_train, X_test, y_train, y_test = train_test_split(X,\n",
    "                                                    y,\n",
    "                                                    random_state=42)\n",
    "# Instantiate (w/ ngrams)\n",
    "cvec = CountVectorizer(stop_words='english', ngram_range=(2,2), min_df=2\n",
    "                      )\n",
    "#Fit\n",
    "cvec.fit(X_train)\n",
    "\n",
    "#Transform\n",
    "X_train_cv = cvec.transform(X_train)\n",
    "X_test_cv = cvec.transform(X_test)"
   ]
  },
  {
   "cell_type": "code",
   "execution_count": 78,
   "id": "c194c575",
   "metadata": {},
   "outputs": [],
   "source": [
    "#this is my last attempt to add to the stop word list\n",
    "\n",
    "# Combine the default English stop words with your custom stop words\n",
    "combined_stop_words = ENGLISH_STOP_WORDS.union(custom_stop_words)\n",
    "\n",
    "# Update the stop words in the CountVectorizer\n",
    "cvec.stop_words = combined_stop_words\n",
    "#pretty sure this cell is more or less entirely in the wrong place\n",
    "#also broken\n"
   ]
  },
  {
   "cell_type": "code",
   "execution_count": 79,
   "id": "e74978bd",
   "metadata": {},
   "outputs": [
    {
     "data": {
      "text/plain": [
       "(9829, 11549)"
      ]
     },
     "execution_count": 79,
     "metadata": {},
     "output_type": "execute_result"
    }
   ],
   "source": [
    "X_train_cv.shape"
   ]
  },
  {
   "cell_type": "code",
   "execution_count": 81,
   "id": "1f13cada",
   "metadata": {},
   "outputs": [
    {
     "data": {
      "image/png": "[encoded data removed]",
      "text/plain": [
       "<Figure size 640x480 with 1 Axes>"
      ]
     },
     "metadata": {},
     "output_type": "display_data"
    }
   ],
   "source": [
    "X_train_df = pd.DataFrame(X_train_cv.todense(),columns=cvec.get_feature_names_out())\n",
    "\n",
    "X_train_df.sum().sort_values(ascending=False).head(10).plot(kind='barh')\n",
    "plt.savefig('../images/top-10-bigrams.png')"
   ]
  },
  {
   "cell_type": "code",
   "execution_count": 82,
   "id": "ad4b7eb8",
   "metadata": {},
   "outputs": [],
   "source": [
    "#note that custom stopwords failed\n",
    "#again, eli5 must be a standard way of starting the title"
   ]
  },
  {
   "cell_type": "code",
   "execution_count": null,
   "id": "fcbd8729",
   "metadata": {},
   "outputs": [],
   "source": []
  },
  {
   "cell_type": "code",
   "execution_count": null,
   "id": "ce880a61",
   "metadata": {},
   "outputs": [],
   "source": [
    "#future (porfolio) feature: all of the above EDA but with self_text!!!\n"
   ]
  },
  {
   "cell_type": "code",
   "execution_count": null,
   "id": "bda072d2",
   "metadata": {},
   "outputs": [],
   "source": [
    "#Welp, that's all I have time for.\n",
    "#it occurs to me that it's good I can type fast\n",
    "#also that I might not leave that in if I had more sleep.\n",
    "\n",
    "\n",
    "#Next up: Modelling"
   ]
  },
  {
   "cell_type": "code",
   "execution_count": 83,
   "id": "42782a2b",
   "metadata": {},
   "outputs": [],
   "source": [
    "#We may want to test lots of different values of hyperparameters in our CountVectorizer.\n",
    "# Redefine training and testing sets.\n",
    "X_train, X_test, y_train, y_test = train_test_split(X,\n",
    "                                                    y,\n",
    "                                                    random_state=42)"
   ]
  },
  {
   "cell_type": "code",
   "execution_count": 85,
   "id": "1f97d1b9",
   "metadata": {},
   "outputs": [
    {
     "name": "stdout",
     "output_type": "stream",
     "text": [
      "Baseline accuracy is bad:  0.45712541959108943\n"
     ]
    }
   ],
   "source": [
    "#We need to calculate baseline accuracy in order to tell if our model is better than null model (\"predicting the plurality class\").\n",
    "print(\"Baseline accuracy is bad: \",1- y_test.mean())"
   ]
  },
  {
   "cell_type": "code",
   "execution_count": 86,
   "id": "49aa94a3",
   "metadata": {},
   "outputs": [
    {
     "data": {
      "text/plain": [
       "is_eli5\n",
       "1    0.542875\n",
       "0    0.457125\n",
       "Name: proportion, dtype: float64"
      ]
     },
     "execution_count": 86,
     "metadata": {},
     "output_type": "execute_result"
    }
   ],
   "source": [
    "y_test.value_counts(normalize = True)"
   ]
  },
  {
   "cell_type": "code",
   "execution_count": 89,
   "id": "9eccc802",
   "metadata": {},
   "outputs": [],
   "source": [
    "\n",
    "# Let's set a pipeline up with two stages:\n",
    "# 1. CountVectorizer (transformer)\n",
    "# 2. Multinomial Naive Bayes (estimator)\n",
    "pipe = Pipeline([\n",
    "    ('cvec',CountVectorizer()), #stopwords? #ngrams?\n",
    "    ('nb',MultinomialNB())\n",
    "])\n",
    "\n",
    "#I feel like I could add my own stopwords here after all\n",
    "####not did in class I guess# Maximum number of features fit: 2000, 3000, 4000, 5000\n",
    "###### Maximum number of documents needed to include token: 90%, 95%\n",
    "\n",
    "# Search over the following values of hyperparameters:\n",
    "# Minimum number of documents needed to include token: 2, 3\n",
    "# Check (individual tokens) and also check (individual tokens and 2-grams).\n",
    "pgrid = {\n",
    "    'cvec__stop_words':[None, 'english'], \n",
    "    'cvec__min_df': [1,2,3],\n",
    "    'cvec__ngram_range': [(1,1), (1,2)],\n",
    "    'cvec__binary': [False, True]\n",
    "}\n",
    "\n",
    "\n",
    "# Instantiate GridSearchCV.\n",
    "gs = GridSearchCV(pipe, pgrid, cv=10)"
   ]
  },
  {
   "cell_type": "code",
   "execution_count": 90,
   "id": "6eb9b101",
   "metadata": {},
   "outputs": [
    {
     "name": "stdout",
     "output_type": "stream",
     "text": [
      "CPU times: user 40.9 s, sys: 932 ms, total: 41.9 s\n",
      "Wall time: 43.9 s\n"
     ]
    },
    {
     "data": {
      "text/html": [
       "<style>#sk-container-id-2 {color: black;}#sk-container-id-2 pre{padding: 0;}#sk-container-id-2 div.sk-toggleable {background-color: white;}#sk-container-id-2 label.sk-toggleable__label {cursor: pointer;display: block;width: 100%;margin-bottom: 0;padding: 0.3em;box-sizing: border-box;text-align: center;}#sk-container-id-2 label.sk-toggleable__label-arrow:before {content: \"▸\";float: left;margin-right: 0.25em;color: #696969;}#sk-container-id-2 label.sk-toggleable__label-arrow:hover:before {color: black;}#sk-container-id-2 div.sk-estimator:hover label.sk-toggleable__label-arrow:before {color: black;}#sk-container-id-2 div.sk-toggleable__content {max-height: 0;max-width: 0;overflow: hidden;text-align: left;background-color: #f0f8ff;}#sk-container-id-2 div.sk-toggleable__content pre {margin: 0.2em;color: black;border-radius: 0.25em;background-color: #f0f8ff;}#sk-container-id-2 input.sk-toggleable__control:checked~div.sk-toggleable__content {max-height: 200px;max-width: 100%;overflow: auto;}#sk-container-id-2 input.sk-toggleable__control:checked~label.sk-toggleable__label-arrow:before {content: \"▾\";}#sk-container-id-2 div.sk-estimator input.sk-toggleable__control:checked~label.sk-toggleable__label {background-color: #d4ebff;}#sk-container-id-2 div.sk-label input.sk-toggleable__control:checked~label.sk-toggleable__label {background-color: #d4ebff;}#sk-container-id-2 input.sk-hidden--visually {border: 0;clip: rect(1px 1px 1px 1px);clip: rect(1px, 1px, 1px, 1px);height: 1px;margin: -1px;overflow: hidden;padding: 0;position: absolute;width: 1px;}#sk-container-id-2 div.sk-estimator {font-family: monospace;background-color: #f0f8ff;border: 1px dotted black;border-radius: 0.25em;box-sizing: border-box;margin-bottom: 0.5em;}#sk-container-id-2 div.sk-estimator:hover {background-color: #d4ebff;}#sk-container-id-2 div.sk-parallel-item::after {content: \"\";width: 100%;border-bottom: 1px solid gray;flex-grow: 1;}#sk-container-id-2 div.sk-label:hover label.sk-toggleable__label {background-color: #d4ebff;}#sk-container-id-2 div.sk-serial::before {content: \"\";position: absolute;border-left: 1px solid gray;box-sizing: border-box;top: 0;bottom: 0;left: 50%;z-index: 0;}#sk-container-id-2 div.sk-serial {display: flex;flex-direction: column;align-items: center;background-color: white;padding-right: 0.2em;padding-left: 0.2em;position: relative;}#sk-container-id-2 div.sk-item {position: relative;z-index: 1;}#sk-container-id-2 div.sk-parallel {display: flex;align-items: stretch;justify-content: center;background-color: white;position: relative;}#sk-container-id-2 div.sk-item::before, #sk-container-id-2 div.sk-parallel-item::before {content: \"\";position: absolute;border-left: 1px solid gray;box-sizing: border-box;top: 0;bottom: 0;left: 50%;z-index: -1;}#sk-container-id-2 div.sk-parallel-item {display: flex;flex-direction: column;z-index: 1;position: relative;background-color: white;}#sk-container-id-2 div.sk-parallel-item:first-child::after {align-self: flex-end;width: 50%;}#sk-container-id-2 div.sk-parallel-item:last-child::after {align-self: flex-start;width: 50%;}#sk-container-id-2 div.sk-parallel-item:only-child::after {width: 0;}#sk-container-id-2 div.sk-dashed-wrapped {border: 1px dashed gray;margin: 0 0.4em 0.5em 0.4em;box-sizing: border-box;padding-bottom: 0.4em;background-color: white;}#sk-container-id-2 div.sk-label label {font-family: monospace;font-weight: bold;display: inline-block;line-height: 1.2em;}#sk-container-id-2 div.sk-label-container {text-align: center;}#sk-container-id-2 div.sk-container {/* jupyter's `normalize.less` sets `[hidden] { display: none; }` but bootstrap.min.css set `[hidden] { display: none !important; }` so we also need the `!important` here to be able to override the default hidden behavior on the sphinx rendered scikit-learn.org. See: https://github.com/scikit-learn/scikit-learn/issues/21755 */display: inline-block !important;position: relative;}#sk-container-id-2 div.sk-text-repr-fallback {display: none;}</style><div id=\"sk-container-id-2\" class=\"sk-top-container\"><div class=\"sk-text-repr-fallback\"><pre>GridSearchCV(cv=10,\n",
       "             estimator=Pipeline(steps=[(&#x27;cvec&#x27;, CountVectorizer()),\n",
       "                                       (&#x27;nb&#x27;, MultinomialNB())]),\n",
       "             param_grid={&#x27;cvec__binary&#x27;: [False, True],\n",
       "                         &#x27;cvec__min_df&#x27;: [1, 2, 3],\n",
       "                         &#x27;cvec__ngram_range&#x27;: [(1, 1), (1, 2)],\n",
       "                         &#x27;cvec__stop_words&#x27;: [None, &#x27;english&#x27;]})</pre><b>In a Jupyter environment, please rerun this cell to show the HTML representation or trust the notebook. <br />On GitHub, the HTML representation is unable to render, please try loading this page with nbviewer.org.</b></div><div class=\"sk-container\" hidden><div class=\"sk-item sk-dashed-wrapped\"><div class=\"sk-label-container\"><div class=\"sk-label sk-toggleable\"><input class=\"sk-toggleable__control sk-hidden--visually\" id=\"sk-estimator-id-2\" type=\"checkbox\" ><label for=\"sk-estimator-id-2\" class=\"sk-toggleable__label sk-toggleable__label-arrow\">GridSearchCV</label><div class=\"sk-toggleable__content\"><pre>GridSearchCV(cv=10,\n",
       "             estimator=Pipeline(steps=[(&#x27;cvec&#x27;, CountVectorizer()),\n",
       "                                       (&#x27;nb&#x27;, MultinomialNB())]),\n",
       "             param_grid={&#x27;cvec__binary&#x27;: [False, True],\n",
       "                         &#x27;cvec__min_df&#x27;: [1, 2, 3],\n",
       "                         &#x27;cvec__ngram_range&#x27;: [(1, 1), (1, 2)],\n",
       "                         &#x27;cvec__stop_words&#x27;: [None, &#x27;english&#x27;]})</pre></div></div></div><div class=\"sk-parallel\"><div class=\"sk-parallel-item\"><div class=\"sk-item\"><div class=\"sk-label-container\"><div class=\"sk-label sk-toggleable\"><input class=\"sk-toggleable__control sk-hidden--visually\" id=\"sk-estimator-id-3\" type=\"checkbox\" ><label for=\"sk-estimator-id-3\" class=\"sk-toggleable__label sk-toggleable__label-arrow\">estimator: Pipeline</label><div class=\"sk-toggleable__content\"><pre>Pipeline(steps=[(&#x27;cvec&#x27;, CountVectorizer()), (&#x27;nb&#x27;, MultinomialNB())])</pre></div></div></div><div class=\"sk-serial\"><div class=\"sk-item\"><div class=\"sk-serial\"><div class=\"sk-item\"><div class=\"sk-estimator sk-toggleable\"><input class=\"sk-toggleable__control sk-hidden--visually\" id=\"sk-estimator-id-4\" type=\"checkbox\" ><label for=\"sk-estimator-id-4\" class=\"sk-toggleable__label sk-toggleable__label-arrow\">CountVectorizer</label><div class=\"sk-toggleable__content\"><pre>CountVectorizer()</pre></div></div></div><div class=\"sk-item\"><div class=\"sk-estimator sk-toggleable\"><input class=\"sk-toggleable__control sk-hidden--visually\" id=\"sk-estimator-id-5\" type=\"checkbox\" ><label for=\"sk-estimator-id-5\" class=\"sk-toggleable__label sk-toggleable__label-arrow\">MultinomialNB</label><div class=\"sk-toggleable__content\"><pre>MultinomialNB()</pre></div></div></div></div></div></div></div></div></div></div></div></div>"
      ],
      "text/plain": [
       "GridSearchCV(cv=10,\n",
       "             estimator=Pipeline(steps=[('cvec', CountVectorizer()),\n",
       "                                       ('nb', MultinomialNB())]),\n",
       "             param_grid={'cvec__binary': [False, True],\n",
       "                         'cvec__min_df': [1, 2, 3],\n",
       "                         'cvec__ngram_range': [(1, 1), (1, 2)],\n",
       "                         'cvec__stop_words': [None, 'english']})"
      ]
     },
     "execution_count": 90,
     "metadata": {},
     "output_type": "execute_result"
    }
   ],
   "source": [
    "%%time\n",
    "# Fit GridSearch to training data.\n",
    "gs.fit(X_train, y_train)"
   ]
  },
  {
   "cell_type": "code",
   "execution_count": null,
   "id": "eb7884d4",
   "metadata": {},
   "outputs": [],
   "source": []
  },
  {
   "cell_type": "code",
   "execution_count": 91,
   "id": "243049fa",
   "metadata": {},
   "outputs": [
    {
     "data": {
      "text/plain": [
       "{'cvec__binary': True,\n",
       " 'cvec__min_df': 3,\n",
       " 'cvec__ngram_range': (1, 2),\n",
       " 'cvec__stop_words': None}"
      ]
     },
     "execution_count": 91,
     "metadata": {},
     "output_type": "execute_result"
    }
   ],
   "source": [
    "# Best Params? \n",
    "gs.best_params_"
   ]
  },
  {
   "cell_type": "code",
   "execution_count": 92,
   "id": "2be3518d",
   "metadata": {},
   "outputs": [
    {
     "data": {
      "text/plain": [
       "0.8769966425882593"
      ]
     },
     "execution_count": 92,
     "metadata": {},
     "output_type": "execute_result"
    }
   ],
   "source": [
    "# Score model on training set.\n",
    "gs.score(X_train, y_train)"
   ]
  },
  {
   "cell_type": "code",
   "execution_count": 93,
   "id": "cef2a9e9",
   "metadata": {},
   "outputs": [
    {
     "data": {
      "text/plain": [
       "0.8507781507476351"
      ]
     },
     "execution_count": 93,
     "metadata": {},
     "output_type": "execute_result"
    }
   ],
   "source": [
    "# Score model on testing set.\n",
    "gs.score(X_test,y_test)\n"
   ]
  },
  {
   "cell_type": "code",
   "execution_count": null,
   "id": "a22e7c72",
   "metadata": {},
   "outputs": [],
   "source": [
    "#these are way better than the <50% I seem to have gotten from the baseline"
   ]
  },
  {
   "cell_type": "code",
   "execution_count": 94,
   "id": "34ef1b7e",
   "metadata": {},
   "outputs": [],
   "source": [
    "# Get predictions\n",
    "preds = gs.predict(X_test)\n"
   ]
  },
  {
   "cell_type": "code",
   "execution_count": 101,
   "id": "2160fd59",
   "metadata": {},
   "outputs": [
    {
     "data": {
      "image/png": "[encoded data removed]",
      "text/plain": [
       "<Figure size 640x480 with 2 Axes>"
      ]
     },
     "metadata": {},
     "output_type": "display_data"
    }
   ],
   "source": [
    "# View confusion matrix\n",
    "ConfusionMatrixDisplay.from_predictions(y_test, preds, cmap='Blues');\n",
    "plt.savefig('../images/confusion_matrix.png')\n",
    "\n",
    "#attrib the hot dog here, so i can grep it for the ppt\n",
    "#attrib https://blog.nillsf.com/index.php/2020/05/23/confusion-matrix-accuracy-recall-precision-false-positive-rate-and-f-scores-explained/"
   ]
  },
  {
   "cell_type": "code",
   "execution_count": null,
   "id": "c73e9731",
   "metadata": {},
   "outputs": [],
   "source": []
  },
  {
   "cell_type": "code",
   "execution_count": 102,
   "id": "c6422e38",
   "metadata": {},
   "outputs": [
    {
     "name": "stdout",
     "output_type": "stream",
     "text": [
      "              precision    recall  f1-score   support\n",
      "\n",
      "           0    0.78779   0.92190   0.84958      1498\n",
      "           1    0.92323   0.79089   0.85195      1779\n",
      "\n",
      "    accuracy                        0.85078      3277\n",
      "   macro avg    0.85551   0.85639   0.85077      3277\n",
      "weighted avg    0.86132   0.85078   0.85087      3277\n",
      "\n"
     ]
    }
   ],
   "source": [
    "#from lesson 505 solutions\n",
    "from sklearn.metrics import classification_report\n",
    "print(classification_report(y_test, preds, digits = 5))\n"
   ]
  },
  {
   "cell_type": "code",
   "execution_count": 103,
   "id": "b3991718",
   "metadata": {},
   "outputs": [],
   "source": [
    "# #delete this eventually it goes in ppt/readme notes:\n",
    "#obvy from chatgpt\n",
    "\n",
    "# #In the classification report you've provided, here's what each part means in plain English:\n",
    "\n",
    "# Precision: For class 0, the model's precision is approximately 0.79. This means that when the model predicts class 0, it's correct about 79% of the time. For class 1, the model's precision is approximately 0.92, indicating it's correct about 92% of the time when predicting class 1.\n",
    "# Recall (Sensitivity): For class 0, the model's recall is approximately 0.92. This means that out of all the actual instances of class 0, the model can correctly find about 92% of them. For class 1, the model's recall is approximately 0.79, indicating it can capture about 79% of the actual instances of class 1.\n",
    "# F1-Score: The F1-score combines precision and recall into a single number. For class 0, it's approximately 0.85, and for class 1, it's also around 0.85. The F1-score is a balance between precision and recall, so in this case, both classes have similar F1-scores.\n",
    "# Support: Support tells you how many data points belong to each class in your dataset. For class 0, there are 1498 instances, and for class 1, there are 1779 instances.\n",
    "\n",
    "# Accuracy: The overall accuracy of your model is approximately 0.85, which means it's correct about 85% of the time when classifying all instances.\n",
    "# Macro Average: The macro average is the average of precision, recall, and F1-score across all classes. In this case, it's approximately 0.86.\n",
    "# Weighted Average: The weighted average is similar to the macro average but takes into account the support for each class. It's around 0.85 in this report"
   ]
  },
  {
   "cell_type": "code",
   "execution_count": null,
   "id": "1c171a37",
   "metadata": {},
   "outputs": [],
   "source": []
  },
  {
   "cell_type": "code",
   "execution_count": null,
   "id": "62fc8282",
   "metadata": {},
   "outputs": [],
   "source": [
    "#btw not doing tfdif (sp), bc time.\n",
    "#if salaried for EDA, sure thing!"
   ]
  },
  {
   "cell_type": "code",
   "execution_count": null,
   "id": "75957981",
   "metadata": {},
   "outputs": [],
   "source": [
    "\n",
    "#5.2 future EDA &/or features: look for patterns btwn the subreddits\n",
    "    #compare the most-common from each\n",
    "#which would require I read_csv the individual subreddits\n",
    "#or at least make an X that's each one (use the is_eli5 binary column)\n",
    "    #least-common?\n",
    "    #length of title?\n",
    "    #length of post?\n",
    "    \n",
    "    #can't do, didn't pull, but thoughts for future EDA: \n",
    "        #any particular usernames repeated?\n",
    "   "
   ]
  },
  {
   "cell_type": "code",
   "execution_count": null,
   "id": "0b4a8843",
   "metadata": {},
   "outputs": [],
   "source": []
  },
  {
   "cell_type": "code",
   "execution_count": null,
   "id": "4993ec9d",
   "metadata": {},
   "outputs": [],
   "source": []
  },
  {
   "cell_type": "code",
   "execution_count": null,
   "id": "190c67fd",
   "metadata": {},
   "outputs": [],
   "source": []
  },
  {
   "cell_type": "code",
   "execution_count": null,
   "id": "51d57a74",
   "metadata": {},
   "outputs": [],
   "source": []
  },
  {
   "cell_type": "code",
   "execution_count": null,
   "id": "3dd2cac8",
   "metadata": {},
   "outputs": [],
   "source": []
  },
  {
   "cell_type": "code",
   "execution_count": null,
   "id": "58181cfa",
   "metadata": {},
   "outputs": [],
   "source": []
  },
  {
   "cell_type": "code",
   "execution_count": null,
   "id": "0a79a0b1",
   "metadata": {},
   "outputs": [],
   "source": []
  },
  {
   "cell_type": "code",
   "execution_count": null,
   "id": "b071e7e6",
   "metadata": {},
   "outputs": [],
   "source": []
  },
  {
   "cell_type": "code",
   "execution_count": null,
   "id": "1f759f87",
   "metadata": {},
   "outputs": [],
   "source": []
  },
  {
   "cell_type": "code",
   "execution_count": null,
   "id": "20c2117f",
   "metadata": {},
   "outputs": [],
   "source": []
  },
  {
   "cell_type": "code",
   "execution_count": null,
   "id": "43034b5d",
   "metadata": {},
   "outputs": [],
   "source": []
  },
  {
   "cell_type": "code",
   "execution_count": null,
   "id": "e14e7771",
   "metadata": {},
   "outputs": [],
   "source": []
  },
  {
   "cell_type": "code",
   "execution_count": null,
   "id": "68a2ee29",
   "metadata": {},
   "outputs": [],
   "source": []
  },
  {
   "cell_type": "code",
   "execution_count": null,
   "id": "de5a9971",
   "metadata": {},
   "outputs": [],
   "source": []
  },
  {
   "cell_type": "code",
   "execution_count": null,
   "id": "25149bbc",
   "metadata": {},
   "outputs": [],
   "source": []
  }
 ],
 "metadata": {
  "kernelspec": {
   "display_name": "Python 3 (ipykernel)",
   "language": "python",
   "name": "python3"
  },
  "language_info": {
   "codemirror_mode": {
    "name": "ipython",
    "version": 3
   },
   "file_extension": ".py",
   "mimetype": "text/x-python",
   "name": "python",
   "nbconvert_exporter": "python",
   "pygments_lexer": "ipython3",
   "version": "3.11.4"
  }
 },
 "nbformat": 4,
 "nbformat_minor": 5
}
