{
 "cells": [
  {
   "cell_type": "markdown",
   "id": "bc426077-0da2-49af-8e9f-e7a27ebaadd9",
   "metadata": {},
   "source": [
    "# **1. Install PRAW**"
   ]
  },
  {
   "cell_type": "code",
   "execution_count": 1,
   "id": "6a3e56be-a4bf-43d4-8c57-7f9954b44b46",
   "metadata": {},
   "outputs": [],
   "source": [
    "#!pip install praw\n",
    "import praw"
   ]
  },
  {
   "cell_type": "markdown",
   "id": "78ecd0ed-d601-4b45-b545-639d4a1e7b49",
   "metadata": {},
   "source": [
    "# **2. Create a Reddit App**"
   ]
  },
  {
   "cell_type": "markdown",
   "id": "da49f3cc-1cec-4917-90f4-7b639d7a145a",
   "metadata": {},
   "source": [
    "To access the Reddit API, you'll need to create an application on Reddit and obtain your API credentials. Follow these steps:\n",
    "\n",
    "- Go to the Reddit website (https://www.reddit.com/) and log in to your account. Feel free to create a throwaway account for this project!\n",
    "- Navigate to the Reddit Apps page (https://www.reddit.com/prefs/apps).\n",
    "- Click the \"are you a developer? create an app...\" button in the top left.\n",
    "- Provide a name for your app (e.g., \"PRAW\"), select the app type ('script') , and optionally add a description. Use http://localhost:8080 as your redirect URI.\n",
    "- After submitting the form, you will reach a page that looks like the following image. You'll see your application's details, including the client ID and client secret. Keep these credentials handy for the next step.\n"
   ]
  },
  {
   "cell_type": "markdown",
   "id": "b3997780-adc4-4ee2-91e3-6a296587cdf8",
   "metadata": {},
   "source": [
    "![Praw](https://www.honchosearch.com/hubfs/Imported_Blog_Media/Client-ID-Client-Secret.png)"
   ]
  },
  {
   "cell_type": "markdown",
   "id": "2b71b52e-05db-4a47-8c8c-ec8f4fd9c283",
   "metadata": {},
   "source": [
    "# **3. Initialize PRAW**"
   ]
  },
  {
   "cell_type": "code",
   "execution_count": 2,
   "id": "103d7151-cf2e-47cb-82c2-578faa763888",
   "metadata": {},
   "outputs": [],
   "source": [
    "reddit = praw.Reddit(\n",
    "    client_id='MpNNGXPo1W7O7AeAMpjRuA',\n",
    "    client_secret='v85vo5HC61pn_rZQZS77GDtOlkntTQ',\n",
    "    user_agent='DSI911 class project script by /u/Creative-Abalone-483',\n",
    "    username='Creative-Abalone-483',\n",
    "    password='klar-rox_FLEE1grog'\n",
    ")"
   ]
  },
  {
   "cell_type": "code",
   "execution_count": 3,
   "id": "a9197060",
   "metadata": {},
   "outputs": [
    {
     "name": "stdout",
     "output_type": "stream",
     "text": [
      "Creative-Abalone-483\n"
     ]
    }
   ],
   "source": [
    "print(reddit.user.me())\n"
   ]
  },
  {
   "cell_type": "markdown",
   "id": "204db51a-ee1d-4180-839b-67bdecea4fe5",
   "metadata": {},
   "source": [
    "Replace 'YOUR_CLIENT_ID', 'YOUR_CLIENT_SECRET', 'YOUR_USER_AGENT', 'YOUR_REDDIT_USERNAME', and 'YOUR_REDDIT_PASSWORD' with your actual Reddit API credentials."
   ]
  },
  {
   "cell_type": "markdown",
   "id": "95b298a6-1aa9-4690-8447-6f717c24e9cc",
   "metadata": {},
   "source": [
    "Your user agent is an identifier used by reddit to identify the source of requests. You can make it whatever you want, but you'll want to choose something descriptive and unique, and it's recommended that your username is included."
   ]
  },
  {
   "cell_type": "markdown",
   "id": "d9006de6-d5ce-4537-a9c7-ca5bdd4ee630",
   "metadata": {},
   "source": [
    "**I have removed my own credentials from this workbook. We can show you how to hide your credentials before submitting the project! The following code will need your own credentials in order to successfully work.**"
   ]
  },
  {
   "cell_type": "markdown",
   "id": "072ea3ea-ab20-4fe5-8711-dbe220400fa3",
   "metadata": {},
   "source": [
    "# 4. Take a look at the documentation [here](https://praw.readthedocs.io/)!"
   ]
  },
  {
   "cell_type": "code",
   "execution_count": 4,
   "id": "b386a458",
   "metadata": {},
   "outputs": [],
   "source": [
    "#suggestion for subreddits:\n",
    "#r/Portland/ - vs - r/askPortland/\n",
    "#nadd vs criticalrole\n",
    "#currently using explainlikeimfive & nostupidquestions\n",
    "\n",
    "\n",
    "\n",
    "#q - how to get/sort for the most controversial posts?\n",
    "#a - no need bc am only analysing the post & no comments"
   ]
  },
  {
   "cell_type": "code",
   "execution_count": 5,
   "id": "17aa261b-f63a-4437-ac41-242982cb546c",
   "metadata": {},
   "outputs": [],
   "source": [
    "# Below is JUST an example of how you can use PRAW\n",
    "\n",
    "# Choose your subreddit\n",
    "sub1reddit = reddit.subreddit('explainlikeimfive')\n",
    "# Adjust the limit as needed -- Note that this will grab the 25 most recent posts\n",
    "sub1posts = sub1reddit.new(limit=1000)\n"
   ]
  },
  {
   "cell_type": "code",
   "execution_count": 6,
   "id": "7688a9e2",
   "metadata": {},
   "outputs": [],
   "source": [
    "\n",
    "#for the next one\n",
    "sub2reddit = reddit.subreddit('nostupidquestions')\n",
    "sub2posts = sub2reddit.new(limit=1000)"
   ]
  },
  {
   "cell_type": "markdown",
   "id": "ad8eb1f6-449f-4bc9-9d56-1fe03739ff50",
   "metadata": {},
   "source": [
    "## NOTE\n",
    "- Reddit API Limitations: The Reddit API imposes limitations on the number of posts you can retrieve in a single request. The maximum number of posts per request is typically 100. Therefore, if you set the limit parameter to a value greater than 100, PRAW will make multiple requests behind the scenes to fetch the desired number of posts.\n",
    "- Rate Limiting: The Reddit API also enforces rate limits to prevent abuse and ensure fair usage. The specific rate limits can vary depending on factors such as your Reddit account's age and karma. As a standard user, you're typically allowed to make 60 requests per minute. If you exceed the rate limit, you may receive an error response until the rate limit resets.\n",
    "- TIP: You can use the created_utc attribute of a post to keep track of the timestamp and ensure non-overlapping pulls. The created_utc attribute represents the post's creation time in UTC."
   ]
  },
  {
   "cell_type": "code",
   "execution_count": 7,
   "id": "a1b221e2-244d-42dc-9c89-1d04134fc7d2",
   "metadata": {
    "tags": []
   },
   "outputs": [
    {
     "data": {
      "text/html": [
       "<div>\n",
       "<style scoped>\n",
       "    .dataframe tbody tr th:only-of-type {\n",
       "        vertical-align: middle;\n",
       "    }\n",
       "\n",
       "    .dataframe tbody tr th {\n",
       "        vertical-align: top;\n",
       "    }\n",
       "\n",
       "    .dataframe thead th {\n",
       "        text-align: right;\n",
       "    }\n",
       "</style>\n",
       "<table border=\"1\" class=\"dataframe\">\n",
       "  <thead>\n",
       "    <tr style=\"text-align: right;\">\n",
       "      <th></th>\n",
       "      <th>created_utc</th>\n",
       "      <th>title</th>\n",
       "      <th>self_text</th>\n",
       "      <th>subreddit</th>\n",
       "    </tr>\n",
       "  </thead>\n",
       "  <tbody>\n",
       "    <tr>\n",
       "      <th>0</th>\n",
       "      <td>1.697390e+09</td>\n",
       "      <td>eli5 could people from the last century compre...</td>\n",
       "      <td>Lets say someone in 1990 plays some Super Mari...</td>\n",
       "      <td>explainlikeimfive</td>\n",
       "    </tr>\n",
       "    <tr>\n",
       "      <th>1</th>\n",
       "      <td>1.697390e+09</td>\n",
       "      <td>Eli5 Home EV charging</td>\n",
       "      <td>Don’t know anything about EV charging\\n\\nWhat ...</td>\n",
       "      <td>explainlikeimfive</td>\n",
       "    </tr>\n",
       "    <tr>\n",
       "      <th>2</th>\n",
       "      <td>1.697390e+09</td>\n",
       "      <td>ELI5: why are we potentially able to hold our ...</td>\n",
       "      <td>I understand that it's the lack of oxygen that...</td>\n",
       "      <td>explainlikeimfive</td>\n",
       "    </tr>\n",
       "    <tr>\n",
       "      <th>3</th>\n",
       "      <td>1.697389e+09</td>\n",
       "      <td>ELI5: Acquiring my car’s title registration?</td>\n",
       "      <td>Hey everyone, first time truly posting so bear...</td>\n",
       "      <td>explainlikeimfive</td>\n",
       "    </tr>\n",
       "    <tr>\n",
       "      <th>4</th>\n",
       "      <td>1.697389e+09</td>\n",
       "      <td>eli5- engine &amp; cabin air filters</td>\n",
       "      <td>ELI5 - why does the auto mechanic always try t...</td>\n",
       "      <td>explainlikeimfive</td>\n",
       "    </tr>\n",
       "  </tbody>\n",
       "</table>\n",
       "</div>"
      ],
      "text/plain": [
       "    created_utc                                              title  \\\n",
       "0  1.697390e+09  eli5 could people from the last century compre...   \n",
       "1  1.697390e+09                              Eli5 Home EV charging   \n",
       "2  1.697390e+09  ELI5: why are we potentially able to hold our ...   \n",
       "3  1.697389e+09       ELI5: Acquiring my car’s title registration?   \n",
       "4  1.697389e+09                   eli5- engine & cabin air filters   \n",
       "\n",
       "                                           self_text          subreddit  \n",
       "0  Lets say someone in 1990 plays some Super Mari...  explainlikeimfive  \n",
       "1  Don’t know anything about EV charging\\n\\nWhat ...  explainlikeimfive  \n",
       "2  I understand that it's the lack of oxygen that...  explainlikeimfive  \n",
       "3  Hey everyone, first time truly posting so bear...  explainlikeimfive  \n",
       "4  ELI5 - why does the auto mechanic always try t...  explainlikeimfive  "
      ]
     },
     "execution_count": 7,
     "metadata": {},
     "output_type": "execute_result"
    }
   ],
   "source": [
    "import pandas as pd\n",
    "\n",
    "data = []\n",
    "for post in sub1posts:\n",
    "    data.append([post.created_utc, post.title, post.selftext, post.subreddit])\n",
    "\n",
    "# Turn sub1's data into a dataframe\n",
    "df_sub1 = pd.DataFrame(data, columns = ['created_utc', 'title', 'self_text', 'subreddit'])\n",
    "df_sub1.head()\n",
    "\n"
   ]
  },
  {
   "cell_type": "code",
   "execution_count": 8,
   "id": "1bde4222",
   "metadata": {},
   "outputs": [
    {
     "data": {
      "text/plain": [
       "(983, 4)"
      ]
     },
     "execution_count": 8,
     "metadata": {},
     "output_type": "execute_result"
    }
   ],
   "source": [
    "df_sub1.shape"
   ]
  },
  {
   "cell_type": "code",
   "execution_count": 9,
   "id": "59ba9133",
   "metadata": {},
   "outputs": [
    {
     "data": {
      "text/plain": [
       "(666, 4)"
      ]
     },
     "execution_count": 9,
     "metadata": {},
     "output_type": "execute_result"
    }
   ],
   "source": [
    "df_sub1[ df_sub1['self_text'] != ''].shape"
   ]
  },
  {
   "cell_type": "code",
   "execution_count": 10,
   "id": "c584e4cf",
   "metadata": {},
   "outputs": [],
   "source": [
    "#drop full row if self_text is empty string\n",
    "#attrib - chatgpt bc I was driving myself crazy\n",
    "column_to_check = \"self_text\"\n",
    "df_sub1 = df_sub1[ df_sub1[column_to_check] != '' ]\n"
   ]
  },
  {
   "cell_type": "code",
   "execution_count": 22,
   "id": "18dd3816",
   "metadata": {},
   "outputs": [],
   "source": [
    "import time\n",
    "now_tag = round(time.time())\n",
    "filename = \"../data/sub1-\"+str(now_tag)+\".csv\"\n",
    "\n",
    "# and save current (no-empty-posts) state to a timestamped file\n",
    "df_sub1.to_csv(filename)"
   ]
  },
  {
   "cell_type": "markdown",
   "id": "fd62999e",
   "metadata": {},
   "source": [
    "######next: second subreddit!"
   ]
  },
  {
   "cell_type": "code",
   "execution_count": 12,
   "id": "4642c966",
   "metadata": {},
   "outputs": [
    {
     "data": {
      "text/html": [
       "<div>\n",
       "<style scoped>\n",
       "    .dataframe tbody tr th:only-of-type {\n",
       "        vertical-align: middle;\n",
       "    }\n",
       "\n",
       "    .dataframe tbody tr th {\n",
       "        vertical-align: top;\n",
       "    }\n",
       "\n",
       "    .dataframe thead th {\n",
       "        text-align: right;\n",
       "    }\n",
       "</style>\n",
       "<table border=\"1\" class=\"dataframe\">\n",
       "  <thead>\n",
       "    <tr style=\"text-align: right;\">\n",
       "      <th></th>\n",
       "      <th>created_utc</th>\n",
       "      <th>title</th>\n",
       "      <th>self_text</th>\n",
       "      <th>subreddit</th>\n",
       "    </tr>\n",
       "  </thead>\n",
       "  <tbody>\n",
       "    <tr>\n",
       "      <th>0</th>\n",
       "      <td>1.697393e+09</td>\n",
       "      <td>What modern car (1950’s-current) would a found...</td>\n",
       "      <td>Things to keep in mind:\\n\\n5 minutes explanati...</td>\n",
       "      <td>NoStupidQuestions</td>\n",
       "    </tr>\n",
       "    <tr>\n",
       "      <th>1</th>\n",
       "      <td>1.697392e+09</td>\n",
       "      <td>Why is our generation so weak and tired?</td>\n",
       "      <td>I’m only 18 years old but I feel like I’m an o...</td>\n",
       "      <td>NoStupidQuestions</td>\n",
       "    </tr>\n",
       "    <tr>\n",
       "      <th>2</th>\n",
       "      <td>1.697392e+09</td>\n",
       "      <td>Do you ever like writing notes to yourself?</td>\n",
       "      <td>I do it. On Instagram I have 2 accounts and I ...</td>\n",
       "      <td>NoStupidQuestions</td>\n",
       "    </tr>\n",
       "    <tr>\n",
       "      <th>3</th>\n",
       "      <td>1.697392e+09</td>\n",
       "      <td>What ethnic group or nationality do you not like?</td>\n",
       "      <td></td>\n",
       "      <td>NoStupidQuestions</td>\n",
       "    </tr>\n",
       "    <tr>\n",
       "      <th>4</th>\n",
       "      <td>1.697392e+09</td>\n",
       "      <td>Need advice about conversation</td>\n",
       "      <td>Hi guys, i need advice how to open conversatio...</td>\n",
       "      <td>NoStupidQuestions</td>\n",
       "    </tr>\n",
       "  </tbody>\n",
       "</table>\n",
       "</div>"
      ],
      "text/plain": [
       "    created_utc                                              title  \\\n",
       "0  1.697393e+09  What modern car (1950’s-current) would a found...   \n",
       "1  1.697392e+09           Why is our generation so weak and tired?   \n",
       "2  1.697392e+09        Do you ever like writing notes to yourself?   \n",
       "3  1.697392e+09  What ethnic group or nationality do you not like?   \n",
       "4  1.697392e+09                     Need advice about conversation   \n",
       "\n",
       "                                           self_text          subreddit  \n",
       "0  Things to keep in mind:\\n\\n5 minutes explanati...  NoStupidQuestions  \n",
       "1  I’m only 18 years old but I feel like I’m an o...  NoStupidQuestions  \n",
       "2  I do it. On Instagram I have 2 accounts and I ...  NoStupidQuestions  \n",
       "3                                                     NoStupidQuestions  \n",
       "4  Hi guys, i need advice how to open conversatio...  NoStupidQuestions  "
      ]
     },
     "execution_count": 12,
     "metadata": {},
     "output_type": "execute_result"
    }
   ],
   "source": [
    "data = []\n",
    "for post in sub2posts:\n",
    "    data.append([post.created_utc, post.title, post.selftext, post.subreddit])\n",
    "\n",
    "# Turn sub2 results into a dataframe\n",
    "df_sub2 = pd.DataFrame(data, columns = ['created_utc', 'title', 'self_text', 'subreddit'])\n",
    "\n",
    "df_sub2.head()"
   ]
  },
  {
   "cell_type": "code",
   "execution_count": 23,
   "id": "1306e574",
   "metadata": {},
   "outputs": [],
   "source": [
    "#drop full row if self_text is empty string\n",
    "column_to_check = \"self_text\"\n",
    "df_sub2 = df_sub2[ df_sub2[column_to_check] != '' ]\n",
    "\n",
    "# and save current (no-empty-posts) state to a timestamped file\n",
    "now_tag = round(time.time()) #note that the rounding will also limit my rate\n",
    "filename2 = \"../data/sub2-\"+str(now_tag)+\".csv\"\n",
    "df_sub2.to_csv(filename2)"
   ]
  },
  {
   "cell_type": "code",
   "execution_count": null,
   "id": "3e6b6ca6",
   "metadata": {},
   "outputs": [],
   "source": []
  },
  {
   "cell_type": "code",
   "execution_count": 24,
   "id": "03c16eaa",
   "metadata": {},
   "outputs": [
    {
     "name": "stdout",
     "output_type": "stream",
     "text": [
      "2023-10-15 10:10:47\n"
     ]
    }
   ],
   "source": [
    "#why did we do this?\n",
    "\n",
    "#attrib https://www.pythonpool.com/python-convert-unix-time-to-datetime/\n",
    "\n",
    "import datetime\n",
    " \n",
    "unixToDatetime = datetime.datetime.fromtimestamp(df_sub1['created_utc'][0]) # Unix Time\n",
    "print(unixToDatetime)\n",
    "\n",
    "#TODO\n",
    "#make new column w/ the good time format??\n",
    "\n",
    "\n",
    "#TODO - reformat time for df_sub2\n"
   ]
  },
  {
   "cell_type": "markdown",
   "id": "2eb4c19d-f9d9-4be8-9ca5-5ecbbde48970",
   "metadata": {},
   "source": [
    "Remember, you will need to pull *at least* 1000 posts from each subreddit, not just 25. Like I mentioned above, you can use the created_utc attribute of a post to keep track of the timestamp and ensure non-overlapping pulls. We will leave this work for you all to complete.\n",
    "\n",
    "Once you have at least 1000 posts from each subreddit, you can do some EDA (perhaps maybe the most common words in each subreddit..?) Eventually, you will want to combine your two dataframes together to do modeling."
   ]
  },
  {
   "cell_type": "code",
   "execution_count": 15,
   "id": "09636020",
   "metadata": {},
   "outputs": [],
   "source": [
    "#TODO - ensure no dupes in the data above\n"
   ]
  },
  {
   "cell_type": "code",
   "execution_count": 16,
   "id": "67297667",
   "metadata": {},
   "outputs": [],
   "source": [
    "#TODO Once you have at least 1000 posts from each subreddit, you can do some EDA (perhaps maybe the most common words in each subreddit..?\n",
    "#todo - write sub1 to a csv\n",
    "#todo - write sub2 to a csv"
   ]
  },
  {
   "cell_type": "code",
   "execution_count": 17,
   "id": "851586d1",
   "metadata": {},
   "outputs": [],
   "source": [
    "#TODO Eventually, you will want to combine your two dataframes together\n",
    "#todo write combined to csv\n",
    "\n",
    "#todo  modeling bc this is a project\n"
   ]
  },
  {
   "cell_type": "markdown",
   "id": "d0785dc1-075d-4bd4-8c34-4dd2978d7dfb",
   "metadata": {},
   "source": [
    "### Hopefully this is enough of a tutorial to help get you started! If you have any questions, let us know!"
   ]
  },
  {
   "cell_type": "markdown",
   "id": "8f942833-8fdb-46d1-9182-b672e49434a5",
   "metadata": {},
   "source": [
    "### Note: Rather than working in this template notebook, make a brand new \"scraping\" notebook (or script), with your own comments, so you can use this project in a portfolio!"
   ]
  },
  {
   "cell_type": "code",
   "execution_count": 18,
   "id": "91e3a7b6",
   "metadata": {},
   "outputs": [],
   "source": [
    "#todo - rename / make new notebook(s)\n",
    "#todo - last - save to script"
   ]
  }
 ],
 "metadata": {
  "kernelspec": {
   "display_name": "Python 3 (ipykernel)",
   "language": "python",
   "name": "python3"
  },
  "language_info": {
   "codemirror_mode": {
    "name": "ipython",
    "version": 3
   },
   "file_extension": ".py",
   "mimetype": "text/x-python",
   "name": "python",
   "nbconvert_exporter": "python",
   "pygments_lexer": "ipython3",
   "version": "3.11.4"
  }
 },
 "nbformat": 4,
 "nbformat_minor": 5
}
